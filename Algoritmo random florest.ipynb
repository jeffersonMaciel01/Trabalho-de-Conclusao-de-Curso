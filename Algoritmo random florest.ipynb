{
 "cells": [
  {
   "cell_type": "markdown",
   "metadata": {},
   "source": [
    "## importando as bibliotecas necessárias\n"
   ]
  },
  {
   "cell_type": "code",
   "execution_count": 30,
   "metadata": {},
   "outputs": [],
   "source": [
    "import pandas as pd\n",
    "from sklearn.preprocessing import StandardScaler\n",
    "from sklearn.ensemble import RandomForestClassifier"
   ]
  },
  {
   "cell_type": "code",
   "execution_count": 31,
   "metadata": {},
   "outputs": [],
   "source": [
    "base_27 = pd.read_csv(\"treinocomrodada27.csv\", sep=\";\", encoding=\"cp1252\")\n",
    "base_28 = pd.read_csv(\"treinocomrodada28.csv\", sep=\";\", encoding=\"cp1252\")\n",
    "base_29 = pd.read_csv(\"treinocomrodada29.csv\", sep=\";\", encoding=\"cp1252\")"
   ]
  },
  {
   "cell_type": "code",
   "execution_count": 32,
   "metadata": {},
   "outputs": [],
   "source": [
    "teste_28 = pd.read_csv(\"rodada28.csv\", sep = \";\", encoding=\"cp1252\")\n",
    "teste_29 = pd.read_csv(\"rodada29.csv\", sep = \";\", encoding=\"cp1252\")\n",
    "teste_30 = pd.read_csv(\"rodada30.csv\", sep = \";\", encoding=\"cp1252\")"
   ]
  },
  {
   "cell_type": "code",
   "execution_count": 33,
   "metadata": {},
   "outputs": [
    {
     "data": {
      "text/plain": [
       "ruim         187\n",
       "bom           53\n",
       "excelente     19\n",
       "Name: classificacao, dtype: int64"
      ]
     },
     "execution_count": 33,
     "metadata": {},
     "output_type": "execute_result"
    }
   ],
   "source": [
    "teste_28['classificacao'].value_counts()"
   ]
  },
  {
   "cell_type": "code",
   "execution_count": 34,
   "metadata": {},
   "outputs": [
    {
     "data": {
      "text/plain": [
       "ruim         178\n",
       "bom           54\n",
       "excelente     21\n",
       "Name: classificacao, dtype: int64"
      ]
     },
     "execution_count": 34,
     "metadata": {},
     "output_type": "execute_result"
    }
   ],
   "source": [
    "teste_29['classificacao'].value_counts()"
   ]
  },
  {
   "cell_type": "code",
   "execution_count": 35,
   "metadata": {},
   "outputs": [
    {
     "data": {
      "text/plain": [
       "ruim         191\n",
       "bom           47\n",
       "excelente     14\n",
       "Name: classificacao, dtype: int64"
      ]
     },
     "execution_count": 35,
     "metadata": {},
     "output_type": "execute_result"
    }
   ],
   "source": [
    "teste_30['classificacao'].value_counts()"
   ]
  },
  {
   "cell_type": "code",
   "execution_count": 36,
   "metadata": {},
   "outputs": [
    {
     "data": {
      "text/plain": [
       "ruim         4964\n",
       "bom          1285\n",
       "excelente     425\n",
       "Name: classificacao, dtype: int64"
      ]
     },
     "execution_count": 36,
     "metadata": {},
     "output_type": "execute_result"
    }
   ],
   "source": [
    "base_27['classificacao'].value_counts()"
   ]
  },
  {
   "cell_type": "code",
   "execution_count": 37,
   "metadata": {},
   "outputs": [
    {
     "data": {
      "text/plain": [
       "ruim         5151\n",
       "bom          1338\n",
       "excelente     444\n",
       "Name: classificacao, dtype: int64"
      ]
     },
     "execution_count": 37,
     "metadata": {},
     "output_type": "execute_result"
    }
   ],
   "source": [
    "base_28['classificacao'].value_counts()"
   ]
  },
  {
   "cell_type": "code",
   "execution_count": 38,
   "metadata": {},
   "outputs": [
    {
     "data": {
      "text/plain": [
       "ruim         5329\n",
       "bom          1392\n",
       "excelente     465\n",
       "Name: classificacao, dtype: int64"
      ]
     },
     "execution_count": 38,
     "metadata": {},
     "output_type": "execute_result"
    }
   ],
   "source": [
    "base_29['classificacao'].value_counts()"
   ]
  },
  {
   "cell_type": "code",
   "execution_count": 39,
   "metadata": {},
   "outputs": [],
   "source": [
    "previsores_27= base_27.iloc[:,0:29].values\n",
    "classe_27 = base_27.iloc[:,29].values\n",
    "\n",
    "previsores_28= base_28.iloc[:,0:29].values\n",
    "classe_28 = base_28.iloc[:, 29].values\n",
    "previsores_29= base_29.iloc[:,0:29].values\n",
    "classe_29 = base_29.iloc[:,29].values"
   ]
  },
  {
   "cell_type": "code",
   "execution_count": 40,
   "metadata": {},
   "outputs": [],
   "source": [
    "prev_teste_28 = teste_28.iloc[:,0:29].values\n",
    "classe_teste_28 = teste_28.iloc[:,29].values\n",
    "\n",
    "prev_teste_29 = teste_29.iloc[:,0:29].values\n",
    "classe_teste_29 = teste_29.iloc[:,29].values\n",
    "\n",
    "prev_teste_30 = teste_30.iloc[:,0:29].values\n",
    "classe_teste_30 = teste_30.iloc[:,29].values"
   ]
  },
  {
   "cell_type": "code",
   "execution_count": 41,
   "metadata": {},
   "outputs": [],
   "source": [
    "scaler = StandardScaler()\n",
    "previsores_27 = scaler.fit_transform(previsores_27)\n",
    "previsores_28 = scaler.fit_transform(previsores_28)\n",
    "previsores_29 = scaler.fit_transform(previsores_29)\n",
    "\n",
    "prev_teste_28 = scaler.fit_transform(prev_teste_28)\n",
    "prev_teste_29 = scaler.fit_transform(prev_teste_29)\n",
    "prev_teste_30 = scaler.fit_transform(prev_teste_30)\n"
   ]
  },
  {
   "cell_type": "code",
   "execution_count": 42,
   "metadata": {},
   "outputs": [
    {
     "name": "stderr",
     "output_type": "stream",
     "text": [
      "C:\\Users\\jeff\\Anaconda3\\lib\\site-packages\\sklearn\\ensemble\\forest.py:245: FutureWarning: The default value of n_estimators will change from 10 in version 0.20 to 100 in 0.22.\n",
      "  \"10 in version 0.20 to 100 in 0.22.\", FutureWarning)\n"
     ]
    }
   ],
   "source": [
    "Classificador = RandomForestClassifier()\n",
    "Classificador.fit(previsores_27, classe_27)\n",
    "Resultado_28 = Classificador.predict(prev_teste_28)\n",
    "\n",
    "\n",
    "Classificador.fit(previsores_28, classe_28)\n",
    "Resultado_29 = Classificador.predict(prev_teste_29)\n",
    "\n",
    "Classificador.fit(previsores_29, classe_29)\n",
    "Resultado_30 = Classificador.predict(prev_teste_30)"
   ]
  },
  {
   "cell_type": "code",
   "execution_count": 14,
   "metadata": {},
   "outputs": [
    {
     "data": {
      "text/plain": [
       "array(['ruim', 'ruim', 'bom', 'ruim', 'ruim', 'ruim', 'ruim', 'ruim',\n",
       "       'ruim', 'bom', 'ruim', 'ruim', 'ruim', 'ruim', 'ruim', 'ruim',\n",
       "       'ruim', 'ruim', 'bom', 'ruim', 'ruim', 'ruim', 'ruim', 'ruim',\n",
       "       'ruim', 'ruim', 'ruim', 'ruim', 'ruim', 'ruim', 'ruim', 'ruim',\n",
       "       'ruim', 'ruim', 'ruim', 'ruim', 'ruim', 'ruim', 'ruim', 'ruim',\n",
       "       'ruim', 'ruim', 'ruim', 'ruim', 'ruim', 'ruim', 'ruim', 'ruim',\n",
       "       'ruim', 'ruim', 'ruim', 'ruim', 'bom', 'ruim', 'ruim', 'bom',\n",
       "       'ruim', 'ruim', 'ruim', 'ruim', 'ruim', 'ruim', 'ruim', 'ruim',\n",
       "       'ruim', 'ruim', 'bom', 'ruim', 'ruim', 'ruim', 'bom', 'ruim',\n",
       "       'ruim', 'ruim', 'ruim', 'ruim', 'ruim', 'ruim', 'ruim', 'ruim',\n",
       "       'ruim', 'ruim', 'ruim', 'ruim', 'ruim', 'ruim', 'ruim', 'ruim',\n",
       "       'ruim', 'ruim', 'bom', 'ruim', 'ruim', 'ruim', 'ruim', 'ruim',\n",
       "       'ruim', 'ruim', 'ruim', 'ruim', 'ruim', 'ruim', 'ruim', 'bom',\n",
       "       'bom', 'bom', 'ruim', 'bom', 'ruim', 'ruim', 'bom', 'ruim', 'bom',\n",
       "       'ruim', 'ruim', 'ruim', 'ruim', 'bom', 'bom', 'ruim', 'ruim',\n",
       "       'ruim', 'bom', 'ruim', 'bom', 'ruim', 'ruim', 'ruim', 'ruim',\n",
       "       'ruim', 'bom', 'ruim', 'ruim', 'ruim', 'ruim', 'ruim', 'ruim',\n",
       "       'ruim', 'ruim', 'ruim', 'bom', 'ruim', 'ruim', 'ruim', 'ruim',\n",
       "       'bom', 'ruim', 'ruim', 'ruim', 'ruim', 'ruim', 'ruim', 'ruim',\n",
       "       'ruim', 'ruim', 'ruim', 'bom', 'ruim', 'ruim', 'ruim', 'ruim',\n",
       "       'ruim', 'ruim', 'ruim', 'ruim', 'ruim', 'ruim', 'ruim', 'bom',\n",
       "       'ruim', 'ruim', 'ruim', 'ruim', 'bom', 'ruim', 'ruim', 'ruim',\n",
       "       'ruim', 'ruim', 'ruim', 'ruim', 'ruim', 'bom', 'ruim', 'ruim',\n",
       "       'ruim', 'ruim', 'ruim', 'ruim', 'ruim', 'ruim', 'bom', 'ruim',\n",
       "       'ruim', 'ruim', 'ruim', 'ruim', 'ruim', 'ruim', 'ruim', 'ruim',\n",
       "       'bom', 'ruim', 'ruim', 'bom', 'ruim', 'ruim', 'ruim', 'ruim',\n",
       "       'ruim', 'ruim', 'bom', 'ruim', 'ruim', 'ruim', 'ruim', 'ruim',\n",
       "       'ruim', 'ruim', 'bom', 'bom', 'ruim', 'bom', 'ruim', 'bom', 'ruim',\n",
       "       'ruim', 'ruim', 'ruim', 'ruim', 'ruim', 'ruim', 'ruim', 'ruim',\n",
       "       'ruim', 'ruim', 'ruim', 'ruim', 'ruim', 'ruim', 'ruim', 'ruim',\n",
       "       'bom', 'ruim', 'bom', 'ruim', 'ruim', 'ruim', 'ruim', 'ruim',\n",
       "       'excelente', 'ruim'], dtype=object)"
      ]
     },
     "execution_count": 14,
     "metadata": {},
     "output_type": "execute_result"
    }
   ],
   "source": [
    "Resultado_30"
   ]
  },
  {
   "cell_type": "code",
   "execution_count": 43,
   "metadata": {},
   "outputs": [],
   "source": [
    "from sklearn.metrics import confusion_matrix, accuracy_score"
   ]
  },
  {
   "cell_type": "code",
   "execution_count": 44,
   "metadata": {},
   "outputs": [],
   "source": [
    "precisao0 = accuracy_score(classe_teste_28, Resultado_28)"
   ]
  },
  {
   "cell_type": "code",
   "execution_count": 45,
   "metadata": {},
   "outputs": [
    {
     "data": {
      "text/plain": [
       "0.7027027027027027"
      ]
     },
     "execution_count": 45,
     "metadata": {},
     "output_type": "execute_result"
    }
   ],
   "source": [
    "precisao0"
   ]
  },
  {
   "cell_type": "code",
   "execution_count": 46,
   "metadata": {},
   "outputs": [
    {
     "data": {
      "text/plain": [
       "0.6561264822134387"
      ]
     },
     "execution_count": 46,
     "metadata": {},
     "output_type": "execute_result"
    }
   ],
   "source": [
    "precisao1 = accuracy_score(classe_teste_29, Resultado_29)\n",
    "precisao1"
   ]
  },
  {
   "cell_type": "code",
   "execution_count": 47,
   "metadata": {},
   "outputs": [],
   "source": [
    "precisao2 = accuracy_score(classe_teste_30, Resultado_30)"
   ]
  },
  {
   "cell_type": "code",
   "execution_count": 48,
   "metadata": {},
   "outputs": [
    {
     "data": {
      "text/plain": [
       "0.7142857142857143"
      ]
     },
     "execution_count": 48,
     "metadata": {},
     "output_type": "execute_result"
    }
   ],
   "source": [
    "precisao2"
   ]
  },
  {
   "cell_type": "code",
   "execution_count": 49,
   "metadata": {},
   "outputs": [
    {
     "data": {
      "text/plain": [
       "array([[  7,   1,  45],\n",
       "       [  4,   0,  15],\n",
       "       [  9,   3, 175]], dtype=int64)"
      ]
     },
     "execution_count": 49,
     "metadata": {},
     "output_type": "execute_result"
    }
   ],
   "source": [
    "m_resultado_28 = confusion_matrix(classe_teste_28, Resultado_28)\n",
    "m_resultado_28"
   ]
  },
  {
   "cell_type": "code",
   "execution_count": null,
   "metadata": {},
   "outputs": [],
   "source": []
  },
  {
   "cell_type": "code",
   "execution_count": 50,
   "metadata": {},
   "outputs": [
    {
     "data": {
      "text/plain": [
       "array([[ 10,   1,  43],\n",
       "       [  1,   2,  18],\n",
       "       [ 24,   0, 154]], dtype=int64)"
      ]
     },
     "execution_count": 50,
     "metadata": {},
     "output_type": "execute_result"
    }
   ],
   "source": [
    "m_resultado_29 = confusion_matrix(classe_teste_29, Resultado_29)\n",
    "m_resultado_29"
   ]
  },
  {
   "cell_type": "code",
   "execution_count": 51,
   "metadata": {},
   "outputs": [
    {
     "data": {
      "text/plain": [
       "array([[  7,   3,  37],\n",
       "       [  2,   0,  12],\n",
       "       [ 18,   0, 173]], dtype=int64)"
      ]
     },
     "execution_count": 51,
     "metadata": {},
     "output_type": "execute_result"
    }
   ],
   "source": [
    "m_resultado_30 = confusion_matrix(classe_teste_30, Resultado_30)\n",
    "m_resultado_30"
   ]
  },
  {
   "cell_type": "code",
   "execution_count": 52,
   "metadata": {},
   "outputs": [],
   "source": [
    "arquivo_final_com_rodada28 = pd.read_csv('rodada28a.csv', sep = ';', encoding ='cp1252', usecols=[0,2,3,4,6,8,31,33])\n",
    "arquivo_final_com_rodada29 = pd.read_csv('rodada29a.csv', sep = ';', encoding ='cp1252', usecols=[0,2,3,4,6,8,31,33])\n",
    "arquivo_final_com_rodada30 = pd.read_csv('rodada30a.csv', sep = ';', encoding ='cp1252', usecols=[0,2,3,4,6,8,31,33])\n",
    "R_28 = pd.DataFrame(Resultado_28, columns=[\"classificacao_F\"])\n",
    "R_29 = pd.DataFrame(Resultado_29, columns=[\"classificacao_F\"])\n",
    "R_30 = pd.DataFrame(Resultado_30, columns=[\"classificacao_F\"])\n",
    "arquivo_final_com_rodada28 = pd.concat([arquivo_final_com_rodada28, R_28],ignore_index=False, sort = False, axis=1).to_csv('classificação_final28.csv', sep=\";\", encoding=\"cp1252\")\n",
    "arquivo_final_com_rodada29 = pd.concat([arquivo_final_com_rodada29,R_29],ignore_index=False, sort = False, axis=1).to_csv('classificação_final29.csv', sep=\";\", encoding=\"cp1252\")\n",
    "arquivo_final_com_rodada30 = pd.concat([arquivo_final_com_rodada30,R_30],ignore_index=False, sort = False, axis=1).to_csv('classificação_final30.csv', sep=\";\", encoding=\"cp1252\")\n"
   ]
  },
  {
   "cell_type": "code",
   "execution_count": 25,
   "metadata": {},
   "outputs": [],
   "source": []
  },
  {
   "cell_type": "code",
   "execution_count": 26,
   "metadata": {},
   "outputs": [
    {
     "data": {
      "text/html": [
       "<div>\n",
       "<style scoped>\n",
       "    .dataframe tbody tr th:only-of-type {\n",
       "        vertical-align: middle;\n",
       "    }\n",
       "\n",
       "    .dataframe tbody tr th {\n",
       "        vertical-align: top;\n",
       "    }\n",
       "\n",
       "    .dataframe thead th {\n",
       "        text-align: right;\n",
       "    }\n",
       "</style>\n",
       "<table border=\"1\" class=\"dataframe\">\n",
       "  <thead>\n",
       "    <tr style=\"text-align: right;\">\n",
       "      <th></th>\n",
       "      <th>classificacao_F</th>\n",
       "    </tr>\n",
       "  </thead>\n",
       "  <tbody>\n",
       "    <tr>\n",
       "      <td>0</td>\n",
       "      <td>ruim</td>\n",
       "    </tr>\n",
       "    <tr>\n",
       "      <td>1</td>\n",
       "      <td>ruim</td>\n",
       "    </tr>\n",
       "    <tr>\n",
       "      <td>2</td>\n",
       "      <td>ruim</td>\n",
       "    </tr>\n",
       "    <tr>\n",
       "      <td>3</td>\n",
       "      <td>ruim</td>\n",
       "    </tr>\n",
       "    <tr>\n",
       "      <td>4</td>\n",
       "      <td>ruim</td>\n",
       "    </tr>\n",
       "    <tr>\n",
       "      <td>...</td>\n",
       "      <td>...</td>\n",
       "    </tr>\n",
       "    <tr>\n",
       "      <td>254</td>\n",
       "      <td>ruim</td>\n",
       "    </tr>\n",
       "    <tr>\n",
       "      <td>255</td>\n",
       "      <td>ruim</td>\n",
       "    </tr>\n",
       "    <tr>\n",
       "      <td>256</td>\n",
       "      <td>ruim</td>\n",
       "    </tr>\n",
       "    <tr>\n",
       "      <td>257</td>\n",
       "      <td>ruim</td>\n",
       "    </tr>\n",
       "    <tr>\n",
       "      <td>258</td>\n",
       "      <td>ruim</td>\n",
       "    </tr>\n",
       "  </tbody>\n",
       "</table>\n",
       "<p>259 rows × 1 columns</p>\n",
       "</div>"
      ],
      "text/plain": [
       "    classificacao_F\n",
       "0              ruim\n",
       "1              ruim\n",
       "2              ruim\n",
       "3              ruim\n",
       "4              ruim\n",
       "..              ...\n",
       "254            ruim\n",
       "255            ruim\n",
       "256            ruim\n",
       "257            ruim\n",
       "258            ruim\n",
       "\n",
       "[259 rows x 1 columns]"
      ]
     },
     "execution_count": 26,
     "metadata": {},
     "output_type": "execute_result"
    }
   ],
   "source": []
  },
  {
   "cell_type": "code",
   "execution_count": null,
   "metadata": {},
   "outputs": [],
   "source": []
  },
  {
   "cell_type": "code",
   "execution_count": 27,
   "metadata": {},
   "outputs": [],
   "source": []
  },
  {
   "cell_type": "code",
   "execution_count": 28,
   "metadata": {},
   "outputs": [],
   "source": []
  },
  {
   "cell_type": "code",
   "execution_count": 29,
   "metadata": {},
   "outputs": [
    {
     "data": {
      "text/html": [
       "<div>\n",
       "<style scoped>\n",
       "    .dataframe tbody tr th:only-of-type {\n",
       "        vertical-align: middle;\n",
       "    }\n",
       "\n",
       "    .dataframe tbody tr th {\n",
       "        vertical-align: top;\n",
       "    }\n",
       "\n",
       "    .dataframe thead th {\n",
       "        text-align: right;\n",
       "    }\n",
       "</style>\n",
       "<table border=\"1\" class=\"dataframe\">\n",
       "  <thead>\n",
       "    <tr style=\"text-align: right;\">\n",
       "      <th></th>\n",
       "      <th>Unnamed: 0</th>\n",
       "      <th>classificacao_F</th>\n",
       "    </tr>\n",
       "  </thead>\n",
       "  <tbody>\n",
       "    <tr>\n",
       "      <td>0</td>\n",
       "      <td>0</td>\n",
       "      <td>ruim</td>\n",
       "    </tr>\n",
       "    <tr>\n",
       "      <td>1</td>\n",
       "      <td>1</td>\n",
       "      <td>ruim</td>\n",
       "    </tr>\n",
       "    <tr>\n",
       "      <td>2</td>\n",
       "      <td>2</td>\n",
       "      <td>ruim</td>\n",
       "    </tr>\n",
       "    <tr>\n",
       "      <td>3</td>\n",
       "      <td>3</td>\n",
       "      <td>ruim</td>\n",
       "    </tr>\n",
       "    <tr>\n",
       "      <td>4</td>\n",
       "      <td>4</td>\n",
       "      <td>ruim</td>\n",
       "    </tr>\n",
       "    <tr>\n",
       "      <td>...</td>\n",
       "      <td>...</td>\n",
       "      <td>...</td>\n",
       "    </tr>\n",
       "    <tr>\n",
       "      <td>254</td>\n",
       "      <td>254</td>\n",
       "      <td>ruim</td>\n",
       "    </tr>\n",
       "    <tr>\n",
       "      <td>255</td>\n",
       "      <td>255</td>\n",
       "      <td>ruim</td>\n",
       "    </tr>\n",
       "    <tr>\n",
       "      <td>256</td>\n",
       "      <td>256</td>\n",
       "      <td>ruim</td>\n",
       "    </tr>\n",
       "    <tr>\n",
       "      <td>257</td>\n",
       "      <td>257</td>\n",
       "      <td>ruim</td>\n",
       "    </tr>\n",
       "    <tr>\n",
       "      <td>258</td>\n",
       "      <td>258</td>\n",
       "      <td>ruim</td>\n",
       "    </tr>\n",
       "  </tbody>\n",
       "</table>\n",
       "<p>259 rows × 2 columns</p>\n",
       "</div>"
      ],
      "text/plain": [
       "     Unnamed: 0 classificacao_F\n",
       "0             0            ruim\n",
       "1             1            ruim\n",
       "2             2            ruim\n",
       "3             3            ruim\n",
       "4             4            ruim\n",
       "..          ...             ...\n",
       "254         254            ruim\n",
       "255         255            ruim\n",
       "256         256            ruim\n",
       "257         257            ruim\n",
       "258         258            ruim\n",
       "\n",
       "[259 rows x 2 columns]"
      ]
     },
     "execution_count": 29,
     "metadata": {},
     "output_type": "execute_result"
    }
   ],
   "source": []
  },
  {
   "cell_type": "code",
   "execution_count": null,
   "metadata": {},
   "outputs": [],
   "source": []
  },
  {
   "cell_type": "code",
   "execution_count": null,
   "metadata": {},
   "outputs": [],
   "source": []
  }
 ],
 "metadata": {
  "kernelspec": {
   "display_name": "Python 3",
   "language": "python",
   "name": "python3"
  },
  "language_info": {
   "codemirror_mode": {
    "name": "ipython",
    "version": 3
   },
   "file_extension": ".py",
   "mimetype": "text/x-python",
   "name": "python",
   "nbconvert_exporter": "python",
   "pygments_lexer": "ipython3",
   "version": "3.7.4"
  }
 },
 "nbformat": 4,
 "nbformat_minor": 2
}
