{
  "nbformat": 4,
  "nbformat_minor": 0,
  "metadata": {
    "colab": {
      "name": "Untitled4.ipynb",
      "provenance": []
    },
    "kernelspec": {
      "name": "python3",
      "display_name": "Python 3"
    }
  },
  "cells": [
    {
      "cell_type": "code",
      "metadata": {
        "id": "6EO7pvTHo1hD",
        "colab_type": "code",
        "colab": {}
      },
      "source": [
        "import pandas as pd\n",
        "from sklearn.preprocessing import StandardScaler\n",
        "from sklearn.neighbors import KNeighborsClassifier\n",
        "from sklearn.neural_network import MLPClassifier\n",
        "from sklearn.ensemble import RandomForestClassifier\n",
        "from sklearn.naive_bayes import GaussianNB\n",
        "from sklearn.neural_network import MLPClassifier\n",
        "from sklearn.model_selection import cross_val_score"
      ],
      "execution_count": 1,
      "outputs": []
    },
    {
      "cell_type": "code",
      "metadata": {
        "id": "OwYyqFKFpFQS",
        "colab_type": "code",
        "colab": {}
      },
      "source": [
        "base_27 = pd.read_csv(\"/content/drive/My Drive/agorA VAI TCC 2020-01/treinocomrodada27.csv\", sep=\";\", encoding=\"cp1252\")\n",
        "base_28 = pd.read_csv(\"/content/drive/My Drive/agorA VAI TCC 2020-01/treinocomrodada28.csv\", sep=\";\", encoding=\"cp1252\")\n",
        "base_29 = pd.read_csv(\"/content/drive/My Drive/agorA VAI TCC 2020-01/treinocomrodada29.csv\", sep=\";\", encoding=\"cp1252\")"
      ],
      "execution_count": 2,
      "outputs": []
    },
    {
      "cell_type": "code",
      "metadata": {
        "id": "mA0burnhpVOX",
        "colab_type": "code",
        "colab": {}
      },
      "source": [
        "teste_28 = pd.read_csv(\"/content/drive/My Drive/agorA VAI TCC 2020-01/rodada28.csv\", sep = \";\", encoding=\"cp1252\")\n",
        "teste_29 = pd.read_csv(\"/content/drive/My Drive/agorA VAI TCC 2020-01/rodada29.csv\", sep = \";\", encoding=\"cp1252\")\n",
        "teste_30 = pd.read_csv(\"/content/drive/My Drive/agorA VAI TCC 2020-01/rodada30.csv\", sep = \";\", encoding=\"cp1252\")"
      ],
      "execution_count": 4,
      "outputs": []
    },
    {
      "cell_type": "code",
      "metadata": {
        "id": "flMHy_aYqKhC",
        "colab_type": "code",
        "colab": {}
      },
      "source": [
        "previsores_27= base_27.iloc[:,0:29].values\n",
        "classe_27 = base_27.iloc[:,29].values\n",
        "previsores_28= base_28.iloc[:,0:29].values\n",
        "classe_28 = base_28.iloc[:, 29].values\n",
        "previsores_29= base_29.iloc[:,0:29].values\n",
        "classe_29 = base_29.iloc[:,29].values"
      ],
      "execution_count": 7,
      "outputs": []
    },
    {
      "cell_type": "code",
      "metadata": {
        "id": "ZWfzFMHfpqin",
        "colab_type": "code",
        "colab": {}
      },
      "source": [
        "prev_teste_28 = teste_28.iloc[:,0:29].values\n",
        "classe_teste_28 = teste_28.iloc[:,29].values\n",
        "\n",
        "prev_teste_29 = teste_29.iloc[:,0:29].values\n",
        "classe_teste_29 = teste_29.iloc[:,29].values\n",
        "\n",
        "prev_teste_30 = teste_30.iloc[:,0:29].values\n",
        "classe_teste_30 = teste_30.iloc[:,29].values"
      ],
      "execution_count": 8,
      "outputs": []
    },
    {
      "cell_type": "code",
      "metadata": {
        "id": "3RVHuHGipwwW",
        "colab_type": "code",
        "colab": {}
      },
      "source": [
        "scaler = StandardScaler()\n",
        "previsores_27 = scaler.fit_transform(previsores_27)\n",
        "previsores_28 = scaler.fit_transform(previsores_28)\n",
        "previsores_29 = scaler.fit_transform(previsores_29)\n",
        "\n",
        "prev_teste_28 = scaler.fit_transform(prev_teste_28)\n",
        "prev_teste_29 = scaler.fit_transform(prev_teste_29)\n",
        "prev_teste_30 = scaler.fit_transform(prev_teste_30)"
      ],
      "execution_count": 9,
      "outputs": []
    },
    {
      "cell_type": "code",
      "metadata": {
        "id": "0KCTItnSqPIn",
        "colab_type": "code",
        "colab": {}
      },
      "source": [
        "modelos = [('KNN', KNeighborsClassifier(n_neighbors=5, metric='minkowski', p = 2)),\n",
        "           ('AD', RandomForestClassifier()),\n",
        "           ('NV', GaussianNB()),\n",
        "           ('RN', MLPClassifier(verbose=False, max_iter= 1000, tol = 0.00001))]"
      ],
      "execution_count": 10,
      "outputs": []
    },
    {
      "cell_type": "code",
      "metadata": {
        "id": "MxJXkAAYpwnv",
        "colab_type": "code",
        "colab": {
          "base_uri": "https://localhost:8080/",
          "height": 272
        },
        "outputId": "dcf54272-485f-4f37-8298-a326c1f12b35"
      },
      "source": [
        "for i, model in modelos:\n",
        "  Classificador = model\n",
        "  Classificador.fit(previsores_27,classe_27)\n",
        "  Classificador.fit(previsores_28,classe_28)\n",
        "  Classificador.fit(previsores_29,classe_29)\n",
        "  Score27=cross_val_score(Classificador, previsores_27,classe_27, cv = 10)\n",
        "  Score28=cross_val_score(Classificador, previsores_28,classe_28, cv = 10)\n",
        "  Score29=cross_val_score(Classificador, previsores_29,classe_29, cv = 10)\n",
        "  print(i, Score27.mean())\n",
        "  print(i, Score28.mean())\n",
        "  print(i, Score29.mean())\n",
        "  print('\\n')"
      ],
      "execution_count": null,
      "outputs": [
        {
          "output_type": "stream",
          "text": [
            "KNN 0.6851913115298638\n",
            "KNN 0.6919050530001538\n",
            "KNN 0.6920450098984584\n",
            "\n",
            "\n",
            "AD 0.7138099363491908\n",
            "AD 0.7207519825675446\n",
            "AD 0.7223796204105827\n",
            "\n",
            "\n",
            "NV 0.16377380172189354\n",
            "NV 0.1668908101184758\n",
            "NV 0.16616993580530062\n",
            "\n",
            "\n"
          ],
          "name": "stdout"
        }
      ]
    },
    {
      "cell_type": "code",
      "metadata": {
        "id": "6oKn2CszqXNm",
        "colab_type": "code",
        "colab": {}
      },
      "source": [
        ""
      ],
      "execution_count": null,
      "outputs": []
    }
  ]
}